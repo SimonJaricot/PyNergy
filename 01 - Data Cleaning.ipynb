{
 "cells": [
  {
   "cell_type": "markdown",
   "source": [
    "# Data Cleaning\n",
    "\n",
    "Here I am cleaning the datasets I chose to vizualize, analize and predict consommation and production.\n",
    "Each datasets can be found [here](https://opendata.reseaux-energies.fr/explore/), their licences are [Etalab](https://www.etalab.gouv.fr/wp-content/uploads/2017/04/ETALAB-Licence-Ouverte-v2.0.pdf)"
   ],
   "metadata": {}
  },
  {
   "cell_type": "code",
   "execution_count": 1,
   "source": [
    "import pandas as pd\r\n",
    "import numpy as np\r\n",
    "import feather\r\n",
    "import datetime\r\n",
    "\r\n",
    "# Colonnes à renommer pour plus de facilités \r\n",
    "col_names = ['code_insee_region', 'region', 'nature', 'date', 'heure', 'date_heure', 'consommation', 'thermique', 'nucleaire', 'eolien', 'solaire', 'hydraulique', 'pompage', 'bioenergies', 'ech_physiques', 'flux_physiques_d_auvergne_rhone_alpes_vers_grand_est', 'flux_physiques_de_bourgogne_franche_comte_vers_grand_est', 'flux_physiques_de_bretagne_vers_grand_est', 'flux_physiques_de_centre_val_de_loire_vers_grand_est', 'flux_physiques_de_grand_est_vers_grand_est', 'flux_physiques_de_hauts_de_france_vers_grand_est', 'flux_physiques_d_ile_de_france_vers_grand_est', 'flux_physiques_de_normandie_vers_grand_est', 'flux_physiques_de_nouvelle_aquitaine_vers_grand_est', 'flux_physiques_d_occitanie_vers_grand_est', 'flux_physiques_de_pays_de_la_loire_vers_grand_est', 'flux_physiques_de_paca_vers_grand_est', 'flux_physiques_de_grand_est_vers_auvergne_rhone_alpes', 'flux_physiques_de_grand_est_vers_bourgogne_franche_comte', 'flux_physiques_de_grand_est_vers_bretagne', 'flux_physiques_de_grand_est_vers_centre_val_de_loire', 'flux_physiques_de_grand_est_vers_grand_est0', 'flux_physiques_de_grand_est_vers_hauts_de_france', 'flux_physiques_de_grand_est_vers_ile_de_france', 'flux_physiques_de_grand_est_vers_normandie', 'flux_physiques_de_grand_est_vers_nouvelle_aquitaine', 'flux_physiques_de_grand_est_vers_occitanie', 'flux_physiques_de_grand_est_vers_pays_de_la_loire', 'flux_physiques_de_grand_est_vers_paca', 'flux_physiques_allemagne_vers_grand_est', 'flux_physiques_belgique_vers_grand_est', 'flux_physiques_espagne_vers_grand_est', 'flux_physiques_italie_vers_grand_est', 'flux_physiques_luxembourg_vers_grand_est', 'flux_physiques_royaume_uni_vers_grand_est', 'flux_physiques_suisse_vers_grand_est', 'flux_physiques_de_grand_est_vers_allemagne', 'flux_physiques_de_grand_est_vers_belgique', 'flux_physiques_de_grand_est_vers_espagne' , 'flux_physiques_de_grand_est_vers_italie', 'flux_physiques_de_grand_est_vers_luxembourg', 'flux_physiques_de_grand_est_vers_royaume_uni', 'flux_physiques_de_grand_est_vers_suisse', 'tco_thermique', 'tch_thermique', 'tco_nucleaire', 'tch_nucleaire', 'tco_eolien', 'tch_eolien', 'tco_solaire', 'tch_solaire', 'tco_hydraulique', 'tch_hydraulique', 'tco_bioenergies', 'tch_bioenergies']\r\n",
    "# na_values observées dans le jeu de données\r\n",
    "df = pd.read_csv('data/energy-new.csv', sep=';', na_values=['-', 'ND'], header=0, names=col_names)\r\n"
   ],
   "outputs": [],
   "metadata": {}
  },
  {
   "cell_type": "code",
   "execution_count": 2,
   "source": [
    "# Empty columns\r\n",
    "cols_na = df.columns[(df.isna().sum() == df.shape[0])]\r\n",
    "df.drop(columns=cols_na, inplace=True)"
   ],
   "outputs": [],
   "metadata": {}
  },
  {
   "cell_type": "code",
   "execution_count": 3,
   "source": [
    "# Drop also tco anc tco columns since I won't use them\r\n",
    "df.drop(columns=['date', 'nature', 'heure', 'tco_thermique', 'tch_thermique', 'tco_nucleaire', 'tch_nucleaire', 'tco_eolien', 'tch_eolien', 'tco_solaire', 'tch_solaire', 'tco_hydraulique', 'tch_hydraulique', 'tco_bioenergies', 'tch_bioenergies'], inplace=True)\r\n"
   ],
   "outputs": [],
   "metadata": {}
  },
  {
   "cell_type": "code",
   "execution_count": 4,
   "source": [
    "# Drop lines if all those columns are Na\r\n",
    "cols = ['consommation',\r\n",
    "       'thermique', 'nucleaire', 'eolien', 'solaire', 'hydraulique', 'pompage',\r\n",
    "       'bioenergies', 'ech_physiques']\r\n",
    "\r\n",
    "df.dropna(subset=cols, how='all', inplace=True)\r\n",
    "df.fillna(0, inplace=True)"
   ],
   "outputs": [],
   "metadata": {}
  },
  {
   "cell_type": "code",
   "execution_count": 5,
   "source": [
    "# No more Na in the dataset !\r\n",
    "df.isna().sum()"
   ],
   "outputs": [
    {
     "output_type": "execute_result",
     "data": {
      "text/plain": [
       "code_insee_region    0\n",
       "region               0\n",
       "date_heure           0\n",
       "consommation         0\n",
       "thermique            0\n",
       "nucleaire            0\n",
       "eolien               0\n",
       "solaire              0\n",
       "hydraulique          0\n",
       "pompage              0\n",
       "bioenergies          0\n",
       "ech_physiques        0\n",
       "dtype: int64"
      ]
     },
     "metadata": {},
     "execution_count": 5
    }
   ],
   "metadata": {}
  },
  {
   "cell_type": "code",
   "execution_count": 6,
   "source": [
    "df.info()"
   ],
   "outputs": [
    {
     "output_type": "stream",
     "name": "stdout",
     "text": [
      "<class 'pandas.core.frame.DataFrame'>\n",
      "Int64Index: 1787316 entries, 12 to 1787327\n",
      "Data columns (total 12 columns):\n",
      " #   Column             Dtype  \n",
      "---  ------             -----  \n",
      " 0   code_insee_region  int64  \n",
      " 1   region             object \n",
      " 2   date_heure         object \n",
      " 3   consommation       float64\n",
      " 4   thermique          float64\n",
      " 5   nucleaire          float64\n",
      " 6   eolien             float64\n",
      " 7   solaire            float64\n",
      " 8   hydraulique        float64\n",
      " 9   pompage            float64\n",
      " 10  bioenergies        float64\n",
      " 11  ech_physiques      float64\n",
      "dtypes: float64(9), int64(1), object(2)\n",
      "memory usage: 177.3+ MB\n"
     ]
    }
   ],
   "metadata": {}
  },
  {
   "cell_type": "code",
   "execution_count": 7,
   "source": [
    "# Change dtypes to int\r\n",
    "cols_int = ['consommation',\r\n",
    "       'thermique', 'nucleaire', 'eolien', 'solaire', 'hydraulique', 'pompage',\r\n",
    "       'bioenergies', 'ech_physiques']\r\n",
    "\r\n",
    "df[cols_int] = df[cols_int].astype(int)\r\n",
    "\r\n",
    "# mW to gW\r\n",
    "df[cols_int] = df[cols_int] / 1000"
   ],
   "outputs": [],
   "metadata": {}
  },
  {
   "cell_type": "code",
   "execution_count": 8,
   "source": [
    "# Sets date to datetime\r\n",
    "df['date'] = pd.to_datetime(df['date_heure'], utc=True)\r\n",
    "df.drop(columns=['date_heure'], inplace=True)\r\n",
    "df.dtypes"
   ],
   "outputs": [
    {
     "output_type": "execute_result",
     "data": {
      "text/plain": [
       "code_insee_region                  int64\n",
       "region                            object\n",
       "consommation                     float64\n",
       "thermique                        float64\n",
       "nucleaire                        float64\n",
       "eolien                           float64\n",
       "solaire                          float64\n",
       "hydraulique                      float64\n",
       "pompage                          float64\n",
       "bioenergies                      float64\n",
       "ech_physiques                    float64\n",
       "date                 datetime64[ns, UTC]\n",
       "dtype: object"
      ]
     },
     "metadata": {},
     "execution_count": 8
    }
   ],
   "metadata": {}
  },
  {
   "cell_type": "code",
   "execution_count": 9,
   "source": [
    "df.date"
   ],
   "outputs": [
    {
     "output_type": "execute_result",
     "data": {
      "text/plain": [
       "12        2012-12-31 23:30:00+00:00\n",
       "13        2012-12-31 23:30:00+00:00\n",
       "14        2012-12-31 23:30:00+00:00\n",
       "15        2012-12-31 23:30:00+00:00\n",
       "16        2012-12-31 23:30:00+00:00\n",
       "                     ...           \n",
       "1787323   2021-06-30 21:30:00+00:00\n",
       "1787324   2021-06-30 21:30:00+00:00\n",
       "1787325   2021-06-30 21:30:00+00:00\n",
       "1787326   2021-06-30 21:30:00+00:00\n",
       "1787327   2021-06-30 21:30:00+00:00\n",
       "Name: date, Length: 1787316, dtype: datetime64[ns, UTC]"
      ]
     },
     "metadata": {},
     "execution_count": 9
    }
   ],
   "metadata": {}
  },
  {
   "cell_type": "code",
   "execution_count": 10,
   "source": [
    "# Sorts values\r\n",
    "df.sort_values(by='date', ascending=True, inplace=True)\r\n",
    "# And resets index\r\n",
    "df.reset_index(inplace=True, drop=True)"
   ],
   "outputs": [],
   "metadata": {}
  },
  {
   "cell_type": "code",
   "execution_count": 11,
   "source": [
    "# Saves in Feather format\r\n",
    "df.to_feather('data/energy.ftr')"
   ],
   "outputs": [],
   "metadata": {}
  },
  {
   "cell_type": "code",
   "execution_count": 12,
   "source": [
    "rs_cols_names = ['date', 'code_insee_region', 'region', 'vitesse_vent', 'rayonnement_solaire']\r\n",
    "\r\n",
    "rs = pd.read_csv('data/rayonnement-solaire-vitesse-vent-new.csv', sep=';', names=rs_cols_names, parse_dates=['date'], header=0)\r\n",
    "\r\n",
    "# Changes dtypes\r\n",
    "rs['date'] = pd.to_datetime(rs['date'], utc=True)\r\n",
    "rs['vitesse_vent'] = rs['vitesse_vent'].astype(float)\r\n",
    "rs['rayonnement_solaire'] = rs['rayonnement_solaire'].astype(float)\r\n",
    "\r\n",
    "# W/m2 to kW/m2\r\n",
    "rs['rayonnement_solaire'] = rs['rayonnement_solaire'] / 1000\r\n"
   ],
   "outputs": [],
   "metadata": {}
  },
  {
   "cell_type": "code",
   "execution_count": 13,
   "source": [
    "rs.dtypes\r\n"
   ],
   "outputs": [
    {
     "output_type": "execute_result",
     "data": {
      "text/plain": [
       "date                   datetime64[ns, UTC]\n",
       "code_insee_region                    int64\n",
       "region                              object\n",
       "vitesse_vent                       float64\n",
       "rayonnement_solaire                float64\n",
       "dtype: object"
      ]
     },
     "metadata": {},
     "execution_count": 13
    }
   ],
   "metadata": {}
  },
  {
   "cell_type": "code",
   "execution_count": 14,
   "source": [
    "# Sorts values...\r\n",
    "rs.sort_values(by='date', ascending=True, inplace=True)\r\n",
    "rs.reset_index(inplace=True, drop=True)"
   ],
   "outputs": [],
   "metadata": {}
  },
  {
   "cell_type": "code",
   "execution_count": 15,
   "source": [
    "# .. and saves in feather format\r\n",
    "rs.to_feather('data/rayonnement.ftr')"
   ],
   "outputs": [],
   "metadata": {}
  },
  {
   "cell_type": "code",
   "execution_count": 16,
   "source": [
    "temp_cols_names = ['date', 'code_insee_region', 'region', 'tmin', 'tmax', 'tmoy']\r\n",
    "temp = pd.read_csv('data/temperature-new.csv', sep=';', header=0, names=temp_cols_names)\r\n",
    "temp.head()"
   ],
   "outputs": [
    {
     "output_type": "execute_result",
     "data": {
      "text/plain": [
       "         date  code_insee_region                   region  tmin   tmax   tmoy\n",
       "0  2019-04-01                 32          Hauts-de-France  4.84  17.42  11.13\n",
       "1  2019-04-02                 44                Grand Est  5.34  17.99  11.66\n",
       "2  2019-04-02                 32          Hauts-de-France  7.14  14.48  10.81\n",
       "3  2019-04-02                 52         Pays de la Loire  7.65  13.75  10.70\n",
       "4  2019-04-02                 27  Bourgogne-Franche-Comté  6.18  18.60  12.39"
      ],
      "text/html": [
       "<div>\n",
       "<style scoped>\n",
       "    .dataframe tbody tr th:only-of-type {\n",
       "        vertical-align: middle;\n",
       "    }\n",
       "\n",
       "    .dataframe tbody tr th {\n",
       "        vertical-align: top;\n",
       "    }\n",
       "\n",
       "    .dataframe thead th {\n",
       "        text-align: right;\n",
       "    }\n",
       "</style>\n",
       "<table border=\"1\" class=\"dataframe\">\n",
       "  <thead>\n",
       "    <tr style=\"text-align: right;\">\n",
       "      <th></th>\n",
       "      <th>date</th>\n",
       "      <th>code_insee_region</th>\n",
       "      <th>region</th>\n",
       "      <th>tmin</th>\n",
       "      <th>tmax</th>\n",
       "      <th>tmoy</th>\n",
       "    </tr>\n",
       "  </thead>\n",
       "  <tbody>\n",
       "    <tr>\n",
       "      <th>0</th>\n",
       "      <td>2019-04-01</td>\n",
       "      <td>32</td>\n",
       "      <td>Hauts-de-France</td>\n",
       "      <td>4.84</td>\n",
       "      <td>17.42</td>\n",
       "      <td>11.13</td>\n",
       "    </tr>\n",
       "    <tr>\n",
       "      <th>1</th>\n",
       "      <td>2019-04-02</td>\n",
       "      <td>44</td>\n",
       "      <td>Grand Est</td>\n",
       "      <td>5.34</td>\n",
       "      <td>17.99</td>\n",
       "      <td>11.66</td>\n",
       "    </tr>\n",
       "    <tr>\n",
       "      <th>2</th>\n",
       "      <td>2019-04-02</td>\n",
       "      <td>32</td>\n",
       "      <td>Hauts-de-France</td>\n",
       "      <td>7.14</td>\n",
       "      <td>14.48</td>\n",
       "      <td>10.81</td>\n",
       "    </tr>\n",
       "    <tr>\n",
       "      <th>3</th>\n",
       "      <td>2019-04-02</td>\n",
       "      <td>52</td>\n",
       "      <td>Pays de la Loire</td>\n",
       "      <td>7.65</td>\n",
       "      <td>13.75</td>\n",
       "      <td>10.70</td>\n",
       "    </tr>\n",
       "    <tr>\n",
       "      <th>4</th>\n",
       "      <td>2019-04-02</td>\n",
       "      <td>27</td>\n",
       "      <td>Bourgogne-Franche-Comté</td>\n",
       "      <td>6.18</td>\n",
       "      <td>18.60</td>\n",
       "      <td>12.39</td>\n",
       "    </tr>\n",
       "  </tbody>\n",
       "</table>\n",
       "</div>"
      ]
     },
     "metadata": {},
     "execution_count": 16
    }
   ],
   "metadata": {}
  },
  {
   "cell_type": "code",
   "execution_count": 17,
   "source": [
    "temp.dtypes"
   ],
   "outputs": [
    {
     "output_type": "execute_result",
     "data": {
      "text/plain": [
       "date                  object\n",
       "code_insee_region      int64\n",
       "region                object\n",
       "tmin                 float64\n",
       "tmax                 float64\n",
       "tmoy                 float64\n",
       "dtype: object"
      ]
     },
     "metadata": {},
     "execution_count": 17
    }
   ],
   "metadata": {}
  },
  {
   "cell_type": "code",
   "execution_count": 18,
   "source": [
    "temp['date'] = pd.to_datetime(temp['date'], utc=True)\r\n",
    "temp.dtypes"
   ],
   "outputs": [
    {
     "output_type": "execute_result",
     "data": {
      "text/plain": [
       "date                 datetime64[ns, UTC]\n",
       "code_insee_region                  int64\n",
       "region                            object\n",
       "tmin                             float64\n",
       "tmax                             float64\n",
       "tmoy                             float64\n",
       "dtype: object"
      ]
     },
     "metadata": {},
     "execution_count": 18
    }
   ],
   "metadata": {}
  },
  {
   "cell_type": "code",
   "execution_count": 19,
   "source": [
    "temp.sort_values(by='date', ascending=True, inplace=True)\r\n",
    "temp.reset_index(inplace=True, drop=True)"
   ],
   "outputs": [],
   "metadata": {}
  },
  {
   "cell_type": "code",
   "execution_count": 20,
   "source": [
    "temp.to_feather('data/temperature.ftr')"
   ],
   "outputs": [],
   "metadata": {}
  },
  {
   "cell_type": "code",
   "execution_count": null,
   "source": [],
   "outputs": [],
   "metadata": {}
  }
 ],
 "metadata": {
  "orig_nbformat": 4,
  "language_info": {
   "name": "python",
   "version": "3.8.10",
   "mimetype": "text/x-python",
   "codemirror_mode": {
    "name": "ipython",
    "version": 3
   },
   "pygments_lexer": "ipython3",
   "nbconvert_exporter": "python",
   "file_extension": ".py"
  },
  "kernelspec": {
   "name": "python3",
   "display_name": "Python 3.8.11 64-bit ('data': conda)"
  },
  "interpreter": {
   "hash": "86c0fb13af54c2ad1b47100011a7e1a0a146078edf52c023a92bb4f0a9b69b6f"
  }
 },
 "nbformat": 4,
 "nbformat_minor": 2
}