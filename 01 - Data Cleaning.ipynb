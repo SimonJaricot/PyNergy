{
 "cells": [
  {
   "cell_type": "markdown",
   "source": [
    "# Data Cleaning\n",
    "\n",
    "Here I am cleaning the datasets I chose to vizualize, analize and predict consommation and production.\n",
    "Each datasets can be found [here](https://opendata.reseaux-energies.fr/explore/), their licences are [Etalab](https://www.etalab.gouv.fr/wp-content/uploads/2017/04/ETALAB-Licence-Ouverte-v2.0.pdf)"
   ],
   "metadata": {}
  },
  {
   "cell_type": "code",
   "execution_count": 24,
   "source": [
    "import pandas as pd\n",
    "import numpy as np\n",
    "import feather\n",
    "import datetime\n",
    "\n",
    "# Colonnes à renommer pour plus de facilités \n",
    "col_names = ['code_insee_region', 'region', 'nature', 'date', 'heure', 'date_heure', 'consommation', 'thermique', 'nucleaire', 'eolien', 'solaire', 'hydraulique', 'pompage', 'bioenergies', 'ech_physiques', 'flux_physiques_d_auvergne_rhone_alpes_vers_grand_est', 'flux_physiques_de_bourgogne_franche_comte_vers_grand_est', 'flux_physiques_de_bretagne_vers_grand_est', 'flux_physiques_de_centre_val_de_loire_vers_grand_est', 'flux_physiques_de_grand_est_vers_grand_est', 'flux_physiques_de_hauts_de_france_vers_grand_est', 'flux_physiques_d_ile_de_france_vers_grand_est', 'flux_physiques_de_normandie_vers_grand_est', 'flux_physiques_de_nouvelle_aquitaine_vers_grand_est', 'flux_physiques_d_occitanie_vers_grand_est', 'flux_physiques_de_pays_de_la_loire_vers_grand_est', 'flux_physiques_de_paca_vers_grand_est', 'flux_physiques_de_grand_est_vers_auvergne_rhone_alpes', 'flux_physiques_de_grand_est_vers_bourgogne_franche_comte', 'flux_physiques_de_grand_est_vers_bretagne', 'flux_physiques_de_grand_est_vers_centre_val_de_loire', 'flux_physiques_de_grand_est_vers_grand_est0', 'flux_physiques_de_grand_est_vers_hauts_de_france', 'flux_physiques_de_grand_est_vers_ile_de_france', 'flux_physiques_de_grand_est_vers_normandie', 'flux_physiques_de_grand_est_vers_nouvelle_aquitaine', 'flux_physiques_de_grand_est_vers_occitanie', 'flux_physiques_de_grand_est_vers_pays_de_la_loire', 'flux_physiques_de_grand_est_vers_paca', 'flux_physiques_allemagne_vers_grand_est', 'flux_physiques_belgique_vers_grand_est', 'flux_physiques_espagne_vers_grand_est', 'flux_physiques_italie_vers_grand_est', 'flux_physiques_luxembourg_vers_grand_est', 'flux_physiques_royaume_uni_vers_grand_est', 'flux_physiques_suisse_vers_grand_est', 'flux_physiques_de_grand_est_vers_allemagne', 'flux_physiques_de_grand_est_vers_belgique', 'flux_physiques_de_grand_est_vers_espagne' , 'flux_physiques_de_grand_est_vers_italie', 'flux_physiques_de_grand_est_vers_luxembourg', 'flux_physiques_de_grand_est_vers_royaume_uni', 'flux_physiques_de_grand_est_vers_suisse', 'tco_thermique', 'tch_thermique', 'tco_nucleaire', 'tch_nucleaire', 'tco_eolien', 'tch_eolien', 'tco_solaire', 'tch_solaire', 'tco_hydraulique', 'tch_hydraulique', 'tco_bioenergies', 'tch_bioenergies']\n",
    "# na_values observées dans le jeu de données\n",
    "df = pd.read_csv('data/energy-new.csv', sep=';', na_values=['-', 'ND'], header=0, names=col_names)\n"
   ],
   "outputs": [],
   "metadata": {}
  },
  {
   "cell_type": "code",
   "execution_count": 25,
   "source": [
    "# Empty columns\n",
    "cols_na = df.columns[(df.isna().sum() == df.shape[0])]\n",
    "df.drop(columns=cols_na, inplace=True)"
   ],
   "outputs": [],
   "metadata": {}
  },
  {
   "cell_type": "code",
   "execution_count": 26,
   "source": [
    "# Drop also tco anc tco columns since I won't use them\n",
    "df.drop(columns=['date', 'nature', 'heure', 'tco_thermique', 'tch_thermique', 'tco_nucleaire', 'tch_nucleaire', 'tco_eolien', 'tch_eolien', 'tco_solaire', 'tch_solaire', 'tco_hydraulique', 'tch_hydraulique', 'tco_bioenergies', 'tch_bioenergies'], inplace=True)\n"
   ],
   "outputs": [],
   "metadata": {}
  },
  {
   "cell_type": "code",
   "execution_count": 27,
   "source": [
    "# Drop lines if all those columns are Na\n",
    "cols = ['consommation',\n",
    "       'thermique', 'nucleaire', 'eolien', 'solaire', 'hydraulique', 'pompage',\n",
    "       'bioenergies', 'ech_physiques']\n",
    "\n",
    "df.dropna(subset=cols, how='all', inplace=True)\n",
    "df.fillna(0, inplace=True)"
   ],
   "outputs": [],
   "metadata": {}
  },
  {
   "cell_type": "code",
   "execution_count": 28,
   "source": [
    "# No more Na in the dataset !\n",
    "df.isna().sum()"
   ],
   "outputs": [
    {
     "output_type": "execute_result",
     "data": {
      "text/plain": [
       "code_insee_region    0\n",
       "region               0\n",
       "date_heure           0\n",
       "consommation         0\n",
       "thermique            0\n",
       "nucleaire            0\n",
       "eolien               0\n",
       "solaire              0\n",
       "hydraulique          0\n",
       "pompage              0\n",
       "bioenergies          0\n",
       "ech_physiques        0\n",
       "dtype: int64"
      ]
     },
     "metadata": {},
     "execution_count": 28
    }
   ],
   "metadata": {}
  },
  {
   "cell_type": "code",
   "execution_count": 29,
   "source": [
    "df.info()"
   ],
   "outputs": [
    {
     "output_type": "stream",
     "name": "stdout",
     "text": [
      "<class 'pandas.core.frame.DataFrame'>\n",
      "Int64Index: 1787316 entries, 12 to 1787327\n",
      "Data columns (total 12 columns):\n",
      " #   Column             Dtype  \n",
      "---  ------             -----  \n",
      " 0   code_insee_region  int64  \n",
      " 1   region             object \n",
      " 2   date_heure         object \n",
      " 3   consommation       float64\n",
      " 4   thermique          float64\n",
      " 5   nucleaire          float64\n",
      " 6   eolien             float64\n",
      " 7   solaire            float64\n",
      " 8   hydraulique        float64\n",
      " 9   pompage            float64\n",
      " 10  bioenergies        float64\n",
      " 11  ech_physiques      float64\n",
      "dtypes: float64(9), int64(1), object(2)\n",
      "memory usage: 177.3+ MB\n"
     ]
    }
   ],
   "metadata": {}
  },
  {
   "cell_type": "code",
   "execution_count": 30,
   "source": [
    "# Change dtypes to int\n",
    "cols_int = ['consommation',\n",
    "       'thermique', 'nucleaire', 'eolien', 'solaire', 'hydraulique', 'pompage',\n",
    "       'bioenergies', 'ech_physiques']\n",
    "\n",
    "df[cols_int] = df[cols_int].astype(int)\n",
    "\n",
    "# mW to gW\n",
    "df[cols_int] = df[cols_int] / 1000"
   ],
   "outputs": [],
   "metadata": {}
  },
  {
   "cell_type": "code",
   "execution_count": 31,
   "source": [
    "# Sets date_heure to datetime\n",
    "df['date_heure'] = pd.to_datetime(df['date_heure'], utc=True)\n",
    "df.dtypes"
   ],
   "outputs": [
    {
     "output_type": "execute_result",
     "data": {
      "text/plain": [
       "code_insee_region                  int64\n",
       "region                            object\n",
       "date_heure           datetime64[ns, UTC]\n",
       "consommation                     float64\n",
       "thermique                        float64\n",
       "nucleaire                        float64\n",
       "eolien                           float64\n",
       "solaire                          float64\n",
       "hydraulique                      float64\n",
       "pompage                          float64\n",
       "bioenergies                      float64\n",
       "ech_physiques                    float64\n",
       "dtype: object"
      ]
     },
     "metadata": {},
     "execution_count": 31
    }
   ],
   "metadata": {}
  },
  {
   "cell_type": "code",
   "execution_count": 32,
   "source": [
    "# Sorts values\n",
    "df.sort_values(by='date_heure', ascending=True, inplace=True)\n",
    "# And resets index\n",
    "df.reset_index(inplace=True, drop=True)"
   ],
   "outputs": [],
   "metadata": {}
  },
  {
   "cell_type": "code",
   "execution_count": 33,
   "source": [
    "# Saves in Feather format\n",
    "df.to_feather('data/energy.ftr')"
   ],
   "outputs": [],
   "metadata": {}
  },
  {
   "cell_type": "code",
   "execution_count": 34,
   "source": [
    "rs_cols_names = ['date', 'code_insee_region', 'region', 'vitesse_vent', 'rayonnement_solaire']\n",
    "\n",
    "rs = pd.read_csv('data/rayonnement-solaire-vitesse-vent-new.csv', sep=';', names=rs_cols_names, parse_dates=['date'], header=0)\n",
    "\n",
    "# Changes dtypes\n",
    "rs['date'] = pd.to_datetime(rs['date'], utc=True)\n",
    "rs['vitesse_vent'] = rs['vitesse_vent'].astype(float)\n",
    "rs['rayonnement_solaire'] = rs['rayonnement_solaire'].astype(float)\n",
    "\n",
    "# W/m2 to kW/m2\n",
    "rs['rayonnement_solaire'] = rs['rayonnement_solaire'] / 1000\n"
   ],
   "outputs": [],
   "metadata": {}
  },
  {
   "cell_type": "code",
   "execution_count": 35,
   "source": [
    "rs.dtypes\n"
   ],
   "outputs": [
    {
     "output_type": "execute_result",
     "data": {
      "text/plain": [
       "date                   datetime64[ns, UTC]\n",
       "code_insee_region                    int64\n",
       "region                              object\n",
       "vitesse_vent                       float64\n",
       "rayonnement_solaire                float64\n",
       "dtype: object"
      ]
     },
     "metadata": {},
     "execution_count": 35
    }
   ],
   "metadata": {}
  },
  {
   "cell_type": "code",
   "execution_count": 36,
   "source": [
    "# Sorts values...\n",
    "rs.sort_values(by='date', ascending=True, inplace=True)\n",
    "rs.reset_index(inplace=True, drop=True)"
   ],
   "outputs": [],
   "metadata": {}
  },
  {
   "cell_type": "code",
   "execution_count": 37,
   "source": [
    "# .. and saves in feather format\n",
    "rs.to_feather('data/rayonnement-new.ftr')"
   ],
   "outputs": [],
   "metadata": {}
  },
  {
   "cell_type": "code",
   "execution_count": 38,
   "source": [
    "temp_cols_names = ['date', 'code_insee_region', 'region', 'tmin', 'tmax', 'tmoy']\n",
    "temp = pd.read_csv('data/temperature.csv', sep=';', header=0, names=temp_cols_names)\n",
    "temp.head()"
   ],
   "outputs": [
    {
     "output_type": "execute_result",
     "data": {
      "text/plain": [
       "         date  code_insee_region                   region  tmin   tmax   tmoy\n",
       "0  2019-04-01                 32          Hauts-de-France  4.84  17.42  11.13\n",
       "1  2019-04-02                 44                Grand Est  5.34  17.99  11.66\n",
       "2  2019-04-02                 32          Hauts-de-France  7.14  14.48  10.81\n",
       "3  2019-04-02                 52         Pays de la Loire  7.65  13.75  10.70\n",
       "4  2019-04-02                 27  Bourgogne-Franche-Comté  6.18  18.60  12.39"
      ],
      "text/html": [
       "<div>\n",
       "<style scoped>\n",
       "    .dataframe tbody tr th:only-of-type {\n",
       "        vertical-align: middle;\n",
       "    }\n",
       "\n",
       "    .dataframe tbody tr th {\n",
       "        vertical-align: top;\n",
       "    }\n",
       "\n",
       "    .dataframe thead th {\n",
       "        text-align: right;\n",
       "    }\n",
       "</style>\n",
       "<table border=\"1\" class=\"dataframe\">\n",
       "  <thead>\n",
       "    <tr style=\"text-align: right;\">\n",
       "      <th></th>\n",
       "      <th>date</th>\n",
       "      <th>code_insee_region</th>\n",
       "      <th>region</th>\n",
       "      <th>tmin</th>\n",
       "      <th>tmax</th>\n",
       "      <th>tmoy</th>\n",
       "    </tr>\n",
       "  </thead>\n",
       "  <tbody>\n",
       "    <tr>\n",
       "      <th>0</th>\n",
       "      <td>2019-04-01</td>\n",
       "      <td>32</td>\n",
       "      <td>Hauts-de-France</td>\n",
       "      <td>4.84</td>\n",
       "      <td>17.42</td>\n",
       "      <td>11.13</td>\n",
       "    </tr>\n",
       "    <tr>\n",
       "      <th>1</th>\n",
       "      <td>2019-04-02</td>\n",
       "      <td>44</td>\n",
       "      <td>Grand Est</td>\n",
       "      <td>5.34</td>\n",
       "      <td>17.99</td>\n",
       "      <td>11.66</td>\n",
       "    </tr>\n",
       "    <tr>\n",
       "      <th>2</th>\n",
       "      <td>2019-04-02</td>\n",
       "      <td>32</td>\n",
       "      <td>Hauts-de-France</td>\n",
       "      <td>7.14</td>\n",
       "      <td>14.48</td>\n",
       "      <td>10.81</td>\n",
       "    </tr>\n",
       "    <tr>\n",
       "      <th>3</th>\n",
       "      <td>2019-04-02</td>\n",
       "      <td>52</td>\n",
       "      <td>Pays de la Loire</td>\n",
       "      <td>7.65</td>\n",
       "      <td>13.75</td>\n",
       "      <td>10.70</td>\n",
       "    </tr>\n",
       "    <tr>\n",
       "      <th>4</th>\n",
       "      <td>2019-04-02</td>\n",
       "      <td>27</td>\n",
       "      <td>Bourgogne-Franche-Comté</td>\n",
       "      <td>6.18</td>\n",
       "      <td>18.60</td>\n",
       "      <td>12.39</td>\n",
       "    </tr>\n",
       "  </tbody>\n",
       "</table>\n",
       "</div>"
      ]
     },
     "metadata": {},
     "execution_count": 38
    }
   ],
   "metadata": {}
  },
  {
   "cell_type": "code",
   "execution_count": 39,
   "source": [
    "temp.dtypes"
   ],
   "outputs": [
    {
     "output_type": "execute_result",
     "data": {
      "text/plain": [
       "date                  object\n",
       "code_insee_region      int64\n",
       "region                object\n",
       "tmin                 float64\n",
       "tmax                 float64\n",
       "tmoy                 float64\n",
       "dtype: object"
      ]
     },
     "metadata": {},
     "execution_count": 39
    }
   ],
   "metadata": {}
  },
  {
   "cell_type": "code",
   "execution_count": 40,
   "source": [
    "temp['date'] = pd.to_datetime(temp['date'], utc=True)\n",
    "temp.dtypes"
   ],
   "outputs": [
    {
     "output_type": "execute_result",
     "data": {
      "text/plain": [
       "date                 datetime64[ns, UTC]\n",
       "code_insee_region                  int64\n",
       "region                            object\n",
       "tmin                             float64\n",
       "tmax                             float64\n",
       "tmoy                             float64\n",
       "dtype: object"
      ]
     },
     "metadata": {},
     "execution_count": 40
    }
   ],
   "metadata": {}
  },
  {
   "cell_type": "code",
   "execution_count": 41,
   "source": [
    "temp.sort_values(by='date', ascending=True, inplace=True)\n",
    "temp.reset_index(inplace=True, drop=True)"
   ],
   "outputs": [],
   "metadata": {}
  },
  {
   "cell_type": "code",
   "execution_count": 42,
   "source": [
    "temp.to_feather('data/temperature.ftr')"
   ],
   "outputs": [],
   "metadata": {}
  },
  {
   "cell_type": "code",
   "execution_count": null,
   "source": [],
   "outputs": [],
   "metadata": {}
  }
 ],
 "metadata": {
  "orig_nbformat": 4,
  "language_info": {
   "name": "python",
   "version": "3.8.10",
   "mimetype": "text/x-python",
   "codemirror_mode": {
    "name": "ipython",
    "version": 3
   },
   "pygments_lexer": "ipython3",
   "nbconvert_exporter": "python",
   "file_extension": ".py"
  },
  "kernelspec": {
   "name": "python3",
   "display_name": "Python 3.8.10 64-bit ('data': conda)"
  },
  "interpreter": {
   "hash": "e469d3fcec07f44e1e3ddbbb1c47cafe525ea03db5b519eaa10328e2fb2f013f"
  }
 },
 "nbformat": 4,
 "nbformat_minor": 2
}