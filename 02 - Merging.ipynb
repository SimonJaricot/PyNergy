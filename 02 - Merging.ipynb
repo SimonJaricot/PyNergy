{
 "cells": [
  {
   "cell_type": "markdown",
   "source": [
    "# Merge datasets\n",
    "\n",
    "Datasets (energy, temperatures and solar) are merged.\n",
    "\n",
    "Problems here:\n",
    "- *Energy* dataset starts in 2013 while others start in 2016.\n",
    "- *Energy* dataset gets data every 30 minutes. *Temperatures* only once a day and *Solar* every 3h.\n",
    "\n",
    "So we are losing informations within days.\n",
    "\n",
    "What I am going to do here is merging the datasets, keep only data **after** *2016-01-01* and replace NA values with the last valid value.\n",
    "\n",
    "**Example:**  \n",
    "If temparatures are set on `2016-01-01 00:00:00` but not on `2016-01-01 01:00`, the last one will get the value of `00:00` if it the last valid value."
   ],
   "metadata": {}
  },
  {
   "cell_type": "code",
   "execution_count": 17,
   "source": [
    "import pandas as pd\n",
    "import numpy as np\n",
    "import feather\n",
    "import datetime\n",
    "\n",
    "import matplotlib.pyplot as plt\n",
    "\n",
    "energy = pd.read_feather('data/energy.ftr')\n",
    "temp = pd.read_feather('data/temperature.ftr')\n",
    "sw = pd.read_feather('data/rayonnement.ftr')"
   ],
   "outputs": [],
   "metadata": {}
  },
  {
   "cell_type": "code",
   "execution_count": 18,
   "source": [
    "# Keeps data of energy\n",
    "merged = pd.merge(left=energy, left_on=['date_heure', 'region'], right=temp, right_on=['date', 'region'], how='left')"
   ],
   "outputs": [],
   "metadata": {}
  },
  {
   "cell_type": "code",
   "execution_count": 19,
   "source": [
    "\n",
    "# Cleaning dataset\n",
    "merged.drop(columns=['code_insee_region_y', 'date'], inplace=True)\n",
    "merged.rename(columns={'date_heure':'date', 'code_insee_region_x': 'code_insee_region'}, inplace=True)"
   ],
   "outputs": [],
   "metadata": {}
  },
  {
   "cell_type": "code",
   "execution_count": 20,
   "source": [
    "# Keeps data after 2016\n",
    "merged_2016 = merged[ merged['date'] >= '2016-01-01' ]"
   ],
   "outputs": [],
   "metadata": {}
  },
  {
   "cell_type": "code",
   "execution_count": 21,
   "source": [
    "# Since data are recorded by region, we have to loop over them\n",
    "# Creates an empty DataFrame with same columns\n",
    "merged_clean = pd.DataFrame(columns=merged.columns)\n",
    "\n",
    "# For each region\n",
    "for r in merged['region'].unique():\n",
    "    # Gets region's data from merged df after 2016\n",
    "    region = merged_2016[ merged_2016['region'] == r ]\n",
    "    # Fills NAs with last valid value\n",
    "    region.fillna(method='pad', inplace=True)\n",
    "    # Appends to the clean df\n",
    "    merged_clean = merged_clean.append(region, ignore_index=True)\n"
   ],
   "outputs": [],
   "metadata": {}
  },
  {
   "cell_type": "code",
   "execution_count": 22,
   "source": [
    "# Needs to be sorted by date \n",
    "merged_clean.sort_values(by='date', ascending=True, inplace=True)"
   ],
   "outputs": [],
   "metadata": {}
  },
  {
   "cell_type": "code",
   "execution_count": 23,
   "source": [
    "# Does the same with solar and wind\n",
    "clean = pd.merge(left=merged_clean, left_on=['date', 'region'], right=sw, right_on=['date', 'region'], how='left')"
   ],
   "outputs": [],
   "metadata": {}
  },
  {
   "cell_type": "code",
   "execution_count": 24,
   "source": [
    "clean.drop(columns=['code_insee_region_y'], inplace=True)\n",
    "clean.rename(columns={'code_insee_region_x': 'code_insee_region'}, inplace=True)"
   ],
   "outputs": [],
   "metadata": {}
  },
  {
   "cell_type": "code",
   "execution_count": 25,
   "source": [
    "df = pd.DataFrame(columns=clean.columns)\n",
    "for r in clean['region'].unique():\n",
    "    region = clean[ clean['region'] == r ]\n",
    "    region.fillna(method='pad', inplace=True)\n",
    "    df = df.append(region, ignore_index=True)\n",
    "\n",
    "df.sort_values(by='date', ascending=True, inplace=True)"
   ],
   "outputs": [],
   "metadata": {}
  },
  {
   "cell_type": "code",
   "execution_count": 26,
   "source": [
    "df.reset_index(drop=True, inplace=True)"
   ],
   "outputs": [],
   "metadata": {}
  },
  {
   "cell_type": "code",
   "execution_count": 27,
   "source": [
    "# Replace all left NAs with 0\n",
    "df.fillna(0, inplace=True)"
   ],
   "outputs": [],
   "metadata": {}
  },
  {
   "cell_type": "code",
   "execution_count": 28,
   "source": [
    "# Ok !\n",
    "df.isna().sum()"
   ],
   "outputs": [
    {
     "output_type": "execute_result",
     "data": {
      "text/plain": [
       "code_insee_region      0\n",
       "region                 0\n",
       "date                   0\n",
       "consommation           0\n",
       "thermique              0\n",
       "nucleaire              0\n",
       "eolien                 0\n",
       "solaire                0\n",
       "hydraulique            0\n",
       "pompage                0\n",
       "bioenergies            0\n",
       "ech_physiques          0\n",
       "tmin                   0\n",
       "tmax                   0\n",
       "tmoy                   0\n",
       "vitesse_vent           0\n",
       "rayonnement_solaire    0\n",
       "dtype: int64"
      ]
     },
     "metadata": {},
     "execution_count": 28
    }
   ],
   "metadata": {}
  },
  {
   "cell_type": "code",
   "execution_count": 29,
   "source": [
    "# And saves everything\n",
    "df.to_feather('data/merged.ftr')"
   ],
   "outputs": [],
   "metadata": {}
  },
  {
   "cell_type": "code",
   "execution_count": 30,
   "source": [
    "# Eolian Dataset\n",
    "eolien = df[ ['date', 'region', 'code_insee_region', 'eolien', 'tmin', 'tmax', 'tmoy', 'vitesse_vent'] ]"
   ],
   "outputs": [],
   "metadata": {}
  },
  {
   "cell_type": "code",
   "execution_count": 31,
   "source": [
    "# Solar Dataset\n",
    "solaire = df[ ['date', 'region', 'code_insee_region', 'solaire', 'tmin', 'tmax', 'tmoy', 'vitesse_vent', 'rayonnement_solaire'] ]"
   ],
   "outputs": [],
   "metadata": {}
  },
  {
   "cell_type": "code",
   "execution_count": 32,
   "source": [
    "# Save !\n",
    "eolien.to_feather('data/eolien.ftr')\n",
    "solaire.to_feather('data/solaire.ftr')"
   ],
   "outputs": [],
   "metadata": {}
  },
  {
   "cell_type": "code",
   "execution_count": null,
   "source": [],
   "outputs": [],
   "metadata": {}
  }
 ],
 "metadata": {
  "orig_nbformat": 4,
  "language_info": {
   "name": "python",
   "version": "3.8.10",
   "mimetype": "text/x-python",
   "codemirror_mode": {
    "name": "ipython",
    "version": 3
   },
   "pygments_lexer": "ipython3",
   "nbconvert_exporter": "python",
   "file_extension": ".py"
  },
  "kernelspec": {
   "name": "python3",
   "display_name": "Python 3.8.10 64-bit ('data': conda)"
  },
  "interpreter": {
   "hash": "e469d3fcec07f44e1e3ddbbb1c47cafe525ea03db5b519eaa10328e2fb2f013f"
  }
 },
 "nbformat": 4,
 "nbformat_minor": 2
}