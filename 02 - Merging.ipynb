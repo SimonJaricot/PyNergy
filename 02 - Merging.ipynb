{
 "cells": [
  {
   "cell_type": "markdown",
   "source": [
    "# Merge datasets\n",
    "\n",
    "Datasets (energy, temperatures and solar) are merged.\n",
    "\n",
    "Problems here:\n",
    "- *Energy* dataset starts in 2013 while others start in 2016.\n",
    "- *Energy* dataset gets data every 30 minutes. *Temperatures* only once a day and *Solar* every 3h.\n",
    "\n",
    "So we are losing informations within days.\n",
    "\n",
    "What I am going to do here is merging the datasets, keep only data **after** *2016-01-01* and replace NA values with the last valid value.\n",
    "\n",
    "**Example:**  \n",
    "If temparatures are set on `2016-01-01 00:00:00` but not on `2016-01-01 01:00`, the last one will get the value of `00:00` if it the last valid value."
   ],
   "metadata": {}
  },
  {
   "cell_type": "code",
   "execution_count": 1,
   "source": [
    "import pandas as pd\r\n",
    "import numpy as np\r\n",
    "import feather\r\n",
    "import datetime\r\n",
    "import geopandas as gpd\r\n",
    "\r\n",
    "import matplotlib.pyplot as plt\r\n",
    "\r\n",
    "energy = pd.read_feather('data/energy.ftr')\r\n",
    "temp = pd.read_feather('data/temperature.ftr')\r\n",
    "sw = pd.read_feather('data/rayonnement.ftr')"
   ],
   "outputs": [],
   "metadata": {}
  },
  {
   "cell_type": "code",
   "execution_count": 2,
   "source": [
    "# Keeps data of energy\r\n",
    "merged = pd.merge(left=energy, left_on=['date', 'region'], right=temp, right_on=['date', 'region'], how='left')"
   ],
   "outputs": [],
   "metadata": {}
  },
  {
   "cell_type": "code",
   "execution_count": 3,
   "source": [
    "\r\n",
    "# Cleaning dataset\r\n",
    "merged.drop(columns=['code_insee_region_y'], inplace=True)\r\n",
    "merged.rename(columns={'date':'date', 'code_insee_region_x': 'code_insee_region'}, inplace=True)"
   ],
   "outputs": [],
   "metadata": {}
  },
  {
   "cell_type": "code",
   "execution_count": 4,
   "source": [
    "# Keeps data after 2016\r\n",
    "merged_2016 = merged[ merged['date'] >= '2016-01-01' ]"
   ],
   "outputs": [],
   "metadata": {}
  },
  {
   "cell_type": "code",
   "execution_count": 5,
   "source": [
    "# Since data are recorded by region, we have to loop over them\r\n",
    "# Creates an empty DataFrame with same columns\r\n",
    "merged_clean = pd.DataFrame(columns=merged.columns)\r\n",
    "\r\n",
    "# For each region\r\n",
    "for r in merged['region'].unique():\r\n",
    "    # Gets region's data from merged df after 2016\r\n",
    "    region = merged_2016[ merged_2016['region'] == r ].copy()\r\n",
    "    # Fills NAs with last valid value\r\n",
    "    region.fillna(method='pad', inplace=True)\r\n",
    "    # Appends to the clean df\r\n",
    "    merged_clean = merged_clean.append(region, ignore_index=True)\r\n"
   ],
   "outputs": [],
   "metadata": {}
  },
  {
   "cell_type": "code",
   "execution_count": 6,
   "source": [
    "# Needs to be sorted by date \r\n",
    "merged_clean.sort_values(by='date', ascending=True, inplace=True)"
   ],
   "outputs": [],
   "metadata": {}
  },
  {
   "cell_type": "code",
   "execution_count": 7,
   "source": [
    "# Does the same with solar and wind\r\n",
    "clean = pd.merge(left=merged_clean, left_on=['date', 'region'], right=sw, right_on=['date', 'region'], how='left')"
   ],
   "outputs": [],
   "metadata": {}
  },
  {
   "cell_type": "code",
   "execution_count": 8,
   "source": [
    "clean.drop(columns=['code_insee_region_y'], inplace=True)\r\n",
    "clean.rename(columns={'code_insee_region_x': 'code_insee_region'}, inplace=True)"
   ],
   "outputs": [],
   "metadata": {}
  },
  {
   "cell_type": "code",
   "execution_count": 9,
   "source": [
    "df = pd.DataFrame(columns=clean.columns)\r\n",
    "for r in clean['region'].unique():\r\n",
    "    region = clean[ clean['region'] == r ].copy()\r\n",
    "    region.fillna(method='pad', inplace=True)\r\n",
    "    df = df.append(region, ignore_index=True)\r\n",
    "\r\n",
    "df.sort_values(by='date', ascending=True, inplace=True)"
   ],
   "outputs": [],
   "metadata": {}
  },
  {
   "cell_type": "code",
   "execution_count": 10,
   "source": [
    "df.reset_index(drop=True, inplace=True)"
   ],
   "outputs": [],
   "metadata": {}
  },
  {
   "cell_type": "code",
   "execution_count": 11,
   "source": [
    "# Replace all left NAs with 0\r\n",
    "df.fillna(0, inplace=True)"
   ],
   "outputs": [],
   "metadata": {}
  },
  {
   "cell_type": "code",
   "execution_count": 12,
   "source": [
    "# Ok !\r\n",
    "df.isna().sum()"
   ],
   "outputs": [
    {
     "output_type": "execute_result",
     "data": {
      "text/plain": [
       "code_insee_region      0\n",
       "region                 0\n",
       "consommation           0\n",
       "thermique              0\n",
       "nucleaire              0\n",
       "eolien                 0\n",
       "solaire                0\n",
       "hydraulique            0\n",
       "pompage                0\n",
       "bioenergies            0\n",
       "ech_physiques          0\n",
       "date                   0\n",
       "tmin                   0\n",
       "tmax                   0\n",
       "tmoy                   0\n",
       "vitesse_vent           0\n",
       "rayonnement_solaire    0\n",
       "dtype: int64"
      ]
     },
     "metadata": {},
     "execution_count": 12
    }
   ],
   "metadata": {}
  },
  {
   "cell_type": "code",
   "execution_count": 13,
   "source": [
    "# Saves Pandas DataFrames\r\n",
    "df.to_feather('data/merged.ftr')"
   ],
   "outputs": [],
   "metadata": {}
  },
  {
   "cell_type": "code",
   "execution_count": 14,
   "source": [
    "# Eolian Dataset\r\n",
    "eolien = df[ ['date', 'region', 'code_insee_region', 'eolien', 'tmin', 'tmax', 'tmoy', 'vitesse_vent'] ]"
   ],
   "outputs": [],
   "metadata": {}
  },
  {
   "cell_type": "code",
   "execution_count": 15,
   "source": [
    "# Solar Dataset\r\n",
    "solaire = df[ ['date', 'region', 'code_insee_region', 'solaire', 'tmin', 'tmax', 'tmoy', 'vitesse_vent', 'rayonnement_solaire'] ]"
   ],
   "outputs": [],
   "metadata": {}
  },
  {
   "cell_type": "code",
   "execution_count": 16,
   "source": [
    "# Save !\r\n",
    "eolien.to_feather('data/eolien.ftr')\r\n",
    "solaire.to_feather('data/solaire.ftr')"
   ],
   "outputs": [],
   "metadata": {}
  },
  {
   "cell_type": "code",
   "execution_count": null,
   "source": [],
   "outputs": [],
   "metadata": {}
  }
 ],
 "metadata": {
  "orig_nbformat": 4,
  "language_info": {
   "name": "python",
   "version": "3.8.10",
   "mimetype": "text/x-python",
   "codemirror_mode": {
    "name": "ipython",
    "version": 3
   },
   "pygments_lexer": "ipython3",
   "nbconvert_exporter": "python",
   "file_extension": ".py"
  },
  "kernelspec": {
   "name": "python3",
   "display_name": "Python 3.8.11 64-bit ('data': conda)"
  },
  "interpreter": {
   "hash": "86c0fb13af54c2ad1b47100011a7e1a0a146078edf52c023a92bb4f0a9b69b6f"
  }
 },
 "nbformat": 4,
 "nbformat_minor": 2
}